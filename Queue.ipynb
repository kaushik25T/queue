{
 "cells": [
  {
   "cell_type": "code",
   "execution_count": 27,
   "metadata": {},
   "outputs": [],
   "source": [
    "def enqueue (num,queue):\n",
    "    queue.insert(0,num)\n",
    "    return queue"
   ]
  },
  {
   "cell_type": "code",
   "execution_count": 28,
   "metadata": {},
   "outputs": [],
   "source": [
    "def dequeue(queue):\n",
    "    queue.pop()\n",
    "    return queue"
   ]
  },
  {
   "cell_type": "code",
   "execution_count": 29,
   "metadata": {},
   "outputs": [],
   "source": [
    "def peek(queue):\n",
    "    if len(queue)==0:\n",
    "        print(\"queue is empty\")\n",
    "        return\n",
    "    for i in queue:\n",
    "        p=i\n",
    "    print(p)"
   ]
  },
  {
   "cell_type": "code",
   "execution_count": 33,
   "metadata": {},
   "outputs": [
    {
     "name": "stdout",
     "output_type": "stream",
     "text": [
      "Enter your Choice enqueue , dequeue , peek and queue queue\n",
      "[4, 8, 3]\n"
     ]
    }
   ],
   "source": [
    "choice = input (\"Enter your Choice enqueue , dequeue , peek and queue \")\n",
    "if choice == \"enqueue\":\n",
    "    num = int(input(\"Enter your number to enqueue in queue \"))\n",
    "    queue=enqueue(num,queue)\n",
    "    print(queue)\n",
    "elif choice == \"dequeue\":\n",
    "    queue=dequeue(queue)\n",
    "    print(queue)\n",
    "elif choice == \"peek\":\n",
    "    peek(queue)\n",
    "elif choice == \"queue\":\n",
    "    print(queue)\n",
    "else:\n",
    "    print (\"Enter correct choice\")"
   ]
  },
  {
   "cell_type": "code",
   "execution_count": null,
   "metadata": {},
   "outputs": [],
   "source": []
  }
 ],
 "metadata": {
  "kernelspec": {
   "display_name": "Python 3",
   "language": "python",
   "name": "python3"
  },
  "language_info": {
   "codemirror_mode": {
    "name": "ipython",
    "version": 3
   },
   "file_extension": ".py",
   "mimetype": "text/x-python",
   "name": "python",
   "nbconvert_exporter": "python",
   "pygments_lexer": "ipython3",
   "version": "3.7.4"
  }
 },
 "nbformat": 4,
 "nbformat_minor": 2
}
